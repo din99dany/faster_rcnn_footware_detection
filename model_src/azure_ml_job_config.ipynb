{
  "cells": [
    {
      "attachments": {},
      "cell_type": "markdown",
      "metadata": {},
      "source": [
        "# Create ML client to AzureML"
      ]
    },
    {
      "cell_type": "code",
      "execution_count": 1,
      "metadata": {
        "gather": {
          "logged": 1675983342537
        }
      },
      "outputs": [],
      "source": [
        "# Import azure libs\n",
        "from azure.ai.ml import MLClient\n",
        "from azure.identity import DefaultAzureCredential\n",
        "\n",
        "# Login \n",
        "credential = DefaultAzureCredential()\n",
        "\n",
        "# Get a handle to the workspace. You can find the info on the workspace tab on ml.azure.com\n",
        "ml_client = MLClient(\n",
        "    credential=credential,\n",
        "    subscription_id=\"<YOUR SUBSCRIPTION GOES HERE>\",\n",
        "    resource_group_name=\"<YOUR RESOURCE GROUP GOES HERE>\",\n",
        "    workspace_name=\"<YOUR WORKSPACE GOES HERE>\",\n",
        ")"
      ]
    },
    {
      "attachments": {},
      "cell_type": "markdown",
      "metadata": {},
      "source": [
        "# Create training job"
      ]
    },
    {
      "cell_type": "code",
      "execution_count": 2,
      "metadata": {
        "gather": {
          "logged": 1675983343909
        }
      },
      "outputs": [],
      "source": [
        "# Import azure libs\n",
        "from azure.ai.ml import command\n",
        "from azure.ai.ml import Input\n",
        "\n",
        "# configure the command job\n",
        "job = command(\n",
        "    inputs=dict(\n",
        "        # uri_file refers to a specific file as a data asset\n",
        "        data=Input(\n",
        "            type=\"<the type of stare for your dataset>\",\n",
        "            path=\"<your dataset path>\",\n",
        "        ),\n",
        "    ),\n",
        "    distribution={\n",
        "        \"type\": \"PyTorch\",\n",
        "        \"process_count_per_instance\": 1,\n",
        "    },\n",
        "    instance_count=\"<CLUSTER SIZE>\",\n",
        "    code=\"<PATH TO CODE>\",\n",
        "    command=\"python TRAIN.py --data ${{inputs.data}}\",\n",
        "    environment=\"<ENVIROMENT, USE PREUSE OR CUSTOM>\",\n",
        "    compute=\"<NAME OF THE TRAINING CLUSTER>\",\n",
        "    experiment_name=\"<EXPERIMENT NAME>\",\n",
        "    display_name=\"<DISPLAY NAME>\",\n",
        ")"
      ]
    },
    {
      "attachments": {},
      "cell_type": "markdown",
      "metadata": {},
      "source": [
        "# Lunch train job"
      ]
    },
    {
      "cell_type": "code",
      "execution_count": null,
      "metadata": {
        "gather": {
          "logged": 1675983387632
        }
      },
      "outputs": [],
      "source": [
        "# submit the command job\n",
        "ml_client.create_or_update(job)"
      ]
    }
  ],
  "metadata": {
    "categories": [
      "SDK v2",
      "tutorials"
    ],
    "description": {
      "description": "A quickstart tutorial to train and deploy an image classification model on Azure Machine Learning studio"
    },
    "kernel_info": {
      "name": "python310-sdkv2"
    },
    "kernelspec": {
      "display_name": "Python 3",
      "language": "python",
      "name": "python3"
    },
    "language_info": {
      "codemirror_mode": {
        "name": "ipython",
        "version": 3
      },
      "file_extension": ".py",
      "mimetype": "text/x-python",
      "name": "python",
      "nbconvert_exporter": "python",
      "pygments_lexer": "ipython3",
      "version": "3.10.10"
    },
    "microsoft": {
      "host": {
        "AzureML": {
          "notebookHasBeenCompleted": true
        }
      }
    },
    "nteract": {
      "version": "nteract-front-end@1.0.0"
    },
    "orig_nbformat": 4,
    "vscode": {
      "interpreter": {
        "hash": "541f1ccb820e06d22b0e0ca226fd1b36bbd00a40fedd51f8e91c1934c9becc0a"
      }
    }
  },
  "nbformat": 4,
  "nbformat_minor": 2
}
